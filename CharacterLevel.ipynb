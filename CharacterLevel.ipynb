{
 "cells": [
  {
   "cell_type": "code",
   "execution_count": 1,
   "id": "02feea4b",
   "metadata": {},
   "outputs": [],
   "source": [
    "import pandas as pd "
   ]
  },
  {
   "cell_type": "code",
   "execution_count": 2,
   "id": "fd09676d",
   "metadata": {},
   "outputs": [],
   "source": [
    "# data = pd.read_excel(\"Book1.xlsx\")\n",
    "data = pd.read_excel(\"data.xlsx\")\n",
    "# data[\"MUunit\"] = data[\"MUunit\"].replace(\" \",\"\")\n",
    "# data=data.drop_duplicates()\n",
    "data=data[data['class']!='µl'] # removing this class as this is demo only. "
   ]
  },
  {
   "cell_type": "code",
   "execution_count": 44,
   "id": "1b69365f",
   "metadata": {},
   "outputs": [
    {
     "data": {
      "text/plain": [
       "µg/kg               100\n",
       "µg/m³               100\n",
       "µs/cm or µmho/cm    100\n",
       "µm                  100\n",
       "µohm                100\n",
       "µa                  100\n",
       "µg/l                100\n",
       "micromhos           100\n",
       "µl/l                100\n",
       "Name: class, dtype: int64"
      ]
     },
     "execution_count": 44,
     "metadata": {},
     "output_type": "execute_result"
    }
   ],
   "source": [
    "df_new = data\n",
    "from sklearn.utils import resample\n",
    "df_minority_a = df_new[df_new[\"class\"]==\"µg/kg\"]\n",
    "df_minority_b = df_new[df_new[\"class\"]==\"µg/m³\"]\n",
    "df_minority_c = df_new[df_new[\"class\"]==\"µs/cm or µmho/cm\"]\n",
    "df_minority_d = df_new[df_new[\"class\"]==\"µm\"]\n",
    "df_minority_e = df_new[df_new[\"class\"]==\"µohm\"]\n",
    "df_minority_f = df_new[df_new[\"class\"]==\"µa\"]\n",
    "df_minority_g = df_new[df_new[\"class\"]==\"µg/l\"]\n",
    "df_minority_h = df_new[df_new[\"class\"]==\"micromhos\"]\n",
    "df_minority_i = df_new[df_new[\"class\"]==\"µl/l\"]\n",
    "#df_minority_j = df_new[df_new[\"class\"]==\"µl\"]\n",
    "up_sample =100\n",
    "# Upsample minority class\n",
    "df_minority_upa = resample(df_minority_a, \n",
    "                                 replace=True,     # sample with replacement\n",
    "                                 n_samples=up_sample,    # to match majority class\n",
    "                                 random_state=123) # reproducible results\n",
    "\n",
    "df_minority_upb = resample(df_minority_b, \n",
    "                                 replace=True,     # sample with replacement\n",
    "                                 n_samples=up_sample,    # to match majority class\n",
    "                                 random_state=123) # reproducible results\n",
    "df_minority_upc = resample(df_minority_c, \n",
    "                                 replace=True,     # sample with replacement\n",
    "                                 n_samples=up_sample,    # to match majority class\n",
    "                                 random_state=123) # reproducible results\n",
    "df_minority_upd = resample(df_minority_d, \n",
    "                                 replace=True,     # sample with replacement\n",
    "                                 n_samples=up_sample,    # to match majority class\n",
    "                                 random_state=123) # reproducible results\n",
    "df_minority_upe = resample(df_minority_e, \n",
    "                                 replace=True,     # sample with replacement\n",
    "                                 n_samples=up_sample,    # to match majority class\n",
    "                                 random_state=123) # reproducible results\n",
    "df_minority_upf = resample(df_minority_f, \n",
    "                                 replace=True,     # sample with replacement\n",
    "                                 n_samples=up_sample,    # to match majority class\n",
    "                                 random_state=123) # reproducible results\n",
    "df_minority_upg = resample(df_minority_g, \n",
    "                                 replace=True,     # sample with replacement\n",
    "                                 n_samples=up_sample,    # to match majority class\n",
    "                                 random_state=123) # reproducible results\n",
    "df_minority_uph = resample(df_minority_h, \n",
    "                                 replace=True,     # sample with replacement\n",
    "                                 n_samples=up_sample,    # to match majority class\n",
    "                                 random_state=123) # reproducible results\n",
    "df_minority_upi = resample(df_minority_i, \n",
    "                                 replace=True,     # sample with replacement\n",
    "                                 n_samples=up_sample,    # to match majority class\n",
    "                                 random_state=123) # reproducible results\n",
    "\n",
    " \n",
    "# Combine majority class with upsampled minority class\n",
    "df_upsampled = pd.concat([df_minority_upa, df_minority_upb, df_minority_upc, df_minority_upd, df_minority_upe, df_minority_upf, df_minority_upg, df_minority_uph, df_minority_upi])\n",
    " \n",
    "# Display new class counts\n",
    "df_upsampled[\"class\"].value_counts()"
   ]
  },
  {
   "cell_type": "code",
   "execution_count": 45,
   "id": "bd464915",
   "metadata": {},
   "outputs": [
    {
     "name": "stdout",
     "output_type": "stream",
     "text": [
      "['/', '/c', '/cm', '/g', '/gr', '/k', '/kg', '/ki', '/l', '/li', '/m', '/m3', '/m³', '3', 'a', 'am', 'am/', 'amp', 'b', 'be', 'c', 'cm', 'co', 'coa', 'cr', 'crn', 'cro', 'cu', 'cub', 'e', 'er', 'er3', 'erc', 'erk', 'erl', 'erm', 'ers', 'et', 'ete', 'g', 'g/', 'g/g', 'g/k', 'g/l', 'g/m', 'gg', 'gk', 'gkg', 'gl', 'gm', 'gm3', 'gp', 'gpe', 'gr', 'gra', 'h', 'hm', 'ho', 'ho/', 'hoc', 'hos', 'hs', 'hs/', 'hsc', 'i', 'ic', 'icr', 'il', 'ilo', 'it', 'ite', 'k', 'kg', 'ki', 'kil', 'l', 'l/', 'l/l', 'li', 'lit', 'll', 'lo', 'log', 'm', 'm/', 'm/g', 'm/k', 'm/l', 'm3', 'mc', 'mcr', 'me', 'met', 'mh', 'mho', 'mi', 'mic', 'mo', 'moh', 'mp', 'mpe', 'mr', 'mrc', 'm³', 'n', 'ns', 'o', 'o/', 'o/c', 'oa', 'oc', 'ocm', 'og', 'og/', 'ogp', 'ogr', 'oh', 'ohm', 'ohs', 'ol', 'ol/', 'oli', 'om', 'ome', 'omh', 'on', 'ons', 'oo', 'ooh', 'os', 'os/', 'osc', 'oω', 'p', 'pe', 'per', 'r', 'r3', 'ra', 'ram', 'rc', 'rco', 'rcu', 'rk', 'rkg', 'rki', 'rl', 'rli', 'rm', 'rme', 'rn', 'ro', 'roa', 'rog', 'rol', 'rom', 'ron', 'roo', 'ros', 'roω', 'rs', 'rsp', 's', 's/', 's/c', 'sc', 'scm', 'sp', 'spe', 't', 'te', 'ter', 'u', 'ua', 'ub', 'ube', 'ug', 'ug/', 'ugk', 'ul', 'ul/', 'ull', 'um', 'us', 'us/', 'usc', '³', 'µ', 'µa', 'µg', 'µg/', 'µgg', 'µgk', 'µgl', 'µgm', 'µgp', 'µl', 'µl/', 'µll', 'µm', 'µmh', 'µmo', 'µo', 'µoh', 'µs', 'µs/', 'µsc', 'µω', 'ω']\n"
     ]
    },
    {
     "name": "stderr",
     "output_type": "stream",
     "text": [
      "c:\\Users\\satya\\AppData\\Local\\Programs\\Python\\Python310\\lib\\site-packages\\sklearn\\utils\\deprecation.py:87: FutureWarning: Function get_feature_names is deprecated; get_feature_names is deprecated in 1.0 and will be removed in 1.2. Please use get_feature_names_out instead.\n",
      "  warnings.warn(msg, category=FutureWarning)\n"
     ]
    }
   ],
   "source": [
    "from sklearn.feature_extraction.text import TfidfVectorizer\n",
    "corpus = df_upsampled[\"MUunit\"]\n",
    "vectorizer = TfidfVectorizer(analyzer='char', ngram_range=(1,3)).fit(corpus)\n",
    "print(vectorizer.get_feature_names())"
   ]
  },
  {
   "cell_type": "code",
   "execution_count": 46,
   "id": "83c9600f",
   "metadata": {},
   "outputs": [
    {
     "name": "stdout",
     "output_type": "stream",
     "text": [
      "  (0, 47)\t0.38206036679797933\n",
      "  (0, 178)\t0.4424302588668239\n",
      "  (0, 72)\t0.3218453404332964\n",
      "  (0, 46)\t0.38206036679797933\n",
      "  (0, 176)\t0.38950608846384793\n",
      "  (0, 71)\t0.290965128057274\n",
      "  (0, 39)\t0.3431651865318699\n",
      "  (0, 172)\t0.233650917356538\n",
      "  (1, 47)\t0.38206036679797933\n",
      "  (1, 178)\t0.4424302588668239\n",
      "  (1, 72)\t0.3218453404332964\n",
      "  (1, 46)\t0.38206036679797933\n",
      "  (1, 176)\t0.38950608846384793\n",
      "  (1, 71)\t0.290965128057274\n",
      "  (1, 39)\t0.3431651865318699\n",
      "  (1, 172)\t0.233650917356538\n",
      "  (2, 82)\t0.17300727126367807\n",
      "  (2, 68)\t0.17300727126367807\n",
      "  (2, 74)\t0.17300727126367807\n",
      "  (2, 7)\t0.18884933375301577\n",
      "  (2, 86)\t0.20387680719300824\n",
      "  (2, 16)\t0.14981716537804912\n",
      "  (2, 139)\t0.2564489340882085\n",
      "  (2, 54)\t0.2564489340882085\n",
      "  (2, 115)\t0.2564489340882085\n",
      "  :\t:\n",
      "  (896, 179)\t0.4471500980598391\n",
      "  (896, 80)\t0.44164451788021764\n",
      "  (896, 75)\t0.5144222574365583\n",
      "  (896, 172)\t0.3064148969051855\n",
      "  (897, 180)\t0.4694878021129811\n",
      "  (897, 179)\t0.3838417137146107\n",
      "  (897, 77)\t0.3567309175362991\n",
      "  (897, 76)\t0.3567309175362991\n",
      "  (897, 8)\t0.2741298102414104\n",
      "  (897, 75)\t0.44158934935750116\n",
      "  (897, 0)\t0.1959557792847713\n",
      "  (897, 172)\t0.26303207725123334\n",
      "  (898, 197)\t0.4530384436306573\n",
      "  (898, 77)\t0.36857029703175037\n",
      "  (898, 76)\t0.36857029703175037\n",
      "  (898, 196)\t0.39911958446491397\n",
      "  (898, 8)\t0.2832277793125489\n",
      "  (898, 187)\t0.1854840076543354\n",
      "  (898, 75)\t0.4562450565900005\n",
      "  (898, 0)\t0.20245926614624643\n",
      "  (899, 181)\t0.4964741298797816\n",
      "  (899, 179)\t0.4471500980598391\n",
      "  (899, 80)\t0.44164451788021764\n",
      "  (899, 75)\t0.5144222574365583\n",
      "  (899, 172)\t0.3064148969051855\n",
      "       TF-IDF\n",
      "ugk  0.442430\n",
      "ug   0.389506\n",
      "gkg  0.382060\n",
      "gk   0.382060\n",
      "g    0.343165\n",
      "kg   0.321845\n",
      "k    0.290965\n",
      "u    0.233651\n",
      "/    0.000000\n",
      "rcu  0.000000\n",
      "r3   0.000000\n",
      "ra   0.000000\n",
      "ram  0.000000\n",
      "rc   0.000000\n",
      "rco  0.000000\n",
      "rk   0.000000\n",
      "rom  0.000000\n",
      "rkg  0.000000\n",
      "rki  0.000000\n",
      "rl   0.000000\n",
      "rli  0.000000\n",
      "rm   0.000000\n",
      "rme  0.000000\n",
      "rn   0.000000\n",
      "ro   0.000000\n"
     ]
    }
   ],
   "source": [
    "tfIdf = vectorizer.fit_transform(corpus)\n",
    "print(tfIdf)\n",
    "df = pd.DataFrame(tfIdf[0].T.todense(), index=vectorizer.get_feature_names(), columns=[\"TF-IDF\"])\n",
    "df = df.sort_values('TF-IDF', ascending=False)\n",
    "print (df.head(25))"
   ]
  },
  {
   "cell_type": "code",
   "execution_count": 47,
   "id": "e4b90198",
   "metadata": {},
   "outputs": [
    {
     "name": "stdout",
     "output_type": "stream",
     "text": [
      "  (0, 178)\t0.4424302588668239\n",
      "  (0, 176)\t0.38950608846384793\n",
      "  (0, 172)\t0.233650917356538\n",
      "  (0, 72)\t0.3218453404332964\n",
      "  (0, 71)\t0.290965128057274\n",
      "  (0, 47)\t0.38206036679797933\n",
      "  (0, 46)\t0.38206036679797933\n",
      "  (0, 39)\t0.3431651865318699\n",
      "  (1, 178)\t0.4424302588668239\n",
      "  (1, 176)\t0.38950608846384793\n",
      "  (1, 172)\t0.233650917356538\n",
      "  (1, 72)\t0.3218453404332964\n",
      "  (1, 71)\t0.290965128057274\n",
      "  (1, 47)\t0.38206036679797933\n",
      "  (1, 46)\t0.38206036679797933\n",
      "  (1, 39)\t0.3431651865318699\n",
      "  (2, 153)\t0.10229494518031729\n",
      "  (2, 151)\t0.06828730272229165\n",
      "  (2, 139)\t0.25644893408820857\n",
      "  (2, 138)\t0.25644893408820857\n",
      "  (2, 136)\t0.19214871778565626\n",
      "  (2, 115)\t0.25644893408820857\n",
      "  (2, 112)\t0.20458989036063457\n",
      "  (2, 106)\t0.11762829624413161\n",
      "  (2, 96)\t0.07116641232155697\n",
      "  :\t:\n",
      "  (896, 179)\t0.4471500980598391\n",
      "  (896, 172)\t0.3064148969051855\n",
      "  (896, 80)\t0.44164451788021764\n",
      "  (896, 75)\t0.5144222574365583\n",
      "  (897, 180)\t0.4694878021129811\n",
      "  (897, 179)\t0.3838417137146107\n",
      "  (897, 172)\t0.26303207725123334\n",
      "  (897, 77)\t0.3567309175362991\n",
      "  (897, 76)\t0.3567309175362991\n",
      "  (897, 75)\t0.44158934935750116\n",
      "  (897, 8)\t0.2741298102414104\n",
      "  (897, 0)\t0.1959557792847713\n",
      "  (898, 197)\t0.4530384436306573\n",
      "  (898, 196)\t0.39911958446491397\n",
      "  (898, 187)\t0.1854840076543354\n",
      "  (898, 77)\t0.36857029703175037\n",
      "  (898, 76)\t0.36857029703175037\n",
      "  (898, 75)\t0.4562450565900005\n",
      "  (898, 8)\t0.2832277793125489\n",
      "  (898, 0)\t0.20245926614624643\n",
      "  (899, 181)\t0.4964741298797816\n",
      "  (899, 179)\t0.4471500980598391\n",
      "  (899, 172)\t0.3064148969051855\n",
      "  (899, 80)\t0.44164451788021764\n",
      "  (899, 75)\t0.5144222574365583\n"
     ]
    }
   ],
   "source": [
    "train_X = df_upsampled[\"MUunit\"]\n",
    "# print(train_X)\n",
    "X_train_tf = vectorizer.transform(train_X)\n",
    "X_train_tf.shape\n",
    "print(X_train_tf)\n"
   ]
  },
  {
   "cell_type": "code",
   "execution_count": 48,
   "id": "8d4dde12",
   "metadata": {},
   "outputs": [
    {
     "data": {
      "text/plain": [
       "(900,)"
      ]
     },
     "execution_count": 48,
     "metadata": {},
     "output_type": "execute_result"
    }
   ],
   "source": [
    "train_y=df_upsampled[\"class\"]\n",
    "train_y.shape"
   ]
  },
  {
   "cell_type": "code",
   "execution_count": 49,
   "id": "4a5528ee",
   "metadata": {
    "scrolled": true
   },
   "outputs": [
    {
     "data": {
      "text/html": [
       "<style>#sk-container-id-4 {color: black;background-color: white;}#sk-container-id-4 pre{padding: 0;}#sk-container-id-4 div.sk-toggleable {background-color: white;}#sk-container-id-4 label.sk-toggleable__label {cursor: pointer;display: block;width: 100%;margin-bottom: 0;padding: 0.3em;box-sizing: border-box;text-align: center;}#sk-container-id-4 label.sk-toggleable__label-arrow:before {content: \"▸\";float: left;margin-right: 0.25em;color: #696969;}#sk-container-id-4 label.sk-toggleable__label-arrow:hover:before {color: black;}#sk-container-id-4 div.sk-estimator:hover label.sk-toggleable__label-arrow:before {color: black;}#sk-container-id-4 div.sk-toggleable__content {max-height: 0;max-width: 0;overflow: hidden;text-align: left;background-color: #f0f8ff;}#sk-container-id-4 div.sk-toggleable__content pre {margin: 0.2em;color: black;border-radius: 0.25em;background-color: #f0f8ff;}#sk-container-id-4 input.sk-toggleable__control:checked~div.sk-toggleable__content {max-height: 200px;max-width: 100%;overflow: auto;}#sk-container-id-4 input.sk-toggleable__control:checked~label.sk-toggleable__label-arrow:before {content: \"▾\";}#sk-container-id-4 div.sk-estimator input.sk-toggleable__control:checked~label.sk-toggleable__label {background-color: #d4ebff;}#sk-container-id-4 div.sk-label input.sk-toggleable__control:checked~label.sk-toggleable__label {background-color: #d4ebff;}#sk-container-id-4 input.sk-hidden--visually {border: 0;clip: rect(1px 1px 1px 1px);clip: rect(1px, 1px, 1px, 1px);height: 1px;margin: -1px;overflow: hidden;padding: 0;position: absolute;width: 1px;}#sk-container-id-4 div.sk-estimator {font-family: monospace;background-color: #f0f8ff;border: 1px dotted black;border-radius: 0.25em;box-sizing: border-box;margin-bottom: 0.5em;}#sk-container-id-4 div.sk-estimator:hover {background-color: #d4ebff;}#sk-container-id-4 div.sk-parallel-item::after {content: \"\";width: 100%;border-bottom: 1px solid gray;flex-grow: 1;}#sk-container-id-4 div.sk-label:hover label.sk-toggleable__label {background-color: #d4ebff;}#sk-container-id-4 div.sk-serial::before {content: \"\";position: absolute;border-left: 1px solid gray;box-sizing: border-box;top: 0;bottom: 0;left: 50%;z-index: 0;}#sk-container-id-4 div.sk-serial {display: flex;flex-direction: column;align-items: center;background-color: white;padding-right: 0.2em;padding-left: 0.2em;position: relative;}#sk-container-id-4 div.sk-item {position: relative;z-index: 1;}#sk-container-id-4 div.sk-parallel {display: flex;align-items: stretch;justify-content: center;background-color: white;position: relative;}#sk-container-id-4 div.sk-item::before, #sk-container-id-4 div.sk-parallel-item::before {content: \"\";position: absolute;border-left: 1px solid gray;box-sizing: border-box;top: 0;bottom: 0;left: 50%;z-index: -1;}#sk-container-id-4 div.sk-parallel-item {display: flex;flex-direction: column;z-index: 1;position: relative;background-color: white;}#sk-container-id-4 div.sk-parallel-item:first-child::after {align-self: flex-end;width: 50%;}#sk-container-id-4 div.sk-parallel-item:last-child::after {align-self: flex-start;width: 50%;}#sk-container-id-4 div.sk-parallel-item:only-child::after {width: 0;}#sk-container-id-4 div.sk-dashed-wrapped {border: 1px dashed gray;margin: 0 0.4em 0.5em 0.4em;box-sizing: border-box;padding-bottom: 0.4em;background-color: white;}#sk-container-id-4 div.sk-label label {font-family: monospace;font-weight: bold;display: inline-block;line-height: 1.2em;}#sk-container-id-4 div.sk-label-container {text-align: center;}#sk-container-id-4 div.sk-container {/* jupyter's `normalize.less` sets `[hidden] { display: none; }` but bootstrap.min.css set `[hidden] { display: none !important; }` so we also need the `!important` here to be able to override the default hidden behavior on the sphinx rendered scikit-learn.org. See: https://github.com/scikit-learn/scikit-learn/issues/21755 */display: inline-block !important;position: relative;}#sk-container-id-4 div.sk-text-repr-fallback {display: none;}</style><div id=\"sk-container-id-4\" class=\"sk-top-container\"><div class=\"sk-text-repr-fallback\"><pre>MultinomialNB()</pre><b>In a Jupyter environment, please rerun this cell to show the HTML representation or trust the notebook. <br />On GitHub, the HTML representation is unable to render, please try loading this page with nbviewer.org.</b></div><div class=\"sk-container\" hidden><div class=\"sk-item\"><div class=\"sk-estimator sk-toggleable\"><input class=\"sk-toggleable__control sk-hidden--visually\" id=\"sk-estimator-id-4\" type=\"checkbox\" checked><label for=\"sk-estimator-id-4\" class=\"sk-toggleable__label sk-toggleable__label-arrow\">MultinomialNB</label><div class=\"sk-toggleable__content\"><pre>MultinomialNB()</pre></div></div></div></div></div>"
      ],
      "text/plain": [
       "MultinomialNB()"
      ]
     },
     "execution_count": 49,
     "metadata": {},
     "output_type": "execute_result"
    }
   ],
   "source": [
    "from sklearn.naive_bayes import MultinomialNB\n",
    "naive_bayes_classifier = MultinomialNB()\n",
    "naive_bayes_classifier.fit(X_train_tf, train_y)"
   ]
  },
  {
   "cell_type": "code",
   "execution_count": 50,
   "id": "5a444b82",
   "metadata": {},
   "outputs": [],
   "source": [
    "y_pred = naive_bayes_classifier.predict(X_train_tf)"
   ]
  },
  {
   "cell_type": "code",
   "execution_count": 51,
   "id": "fdc6092a",
   "metadata": {},
   "outputs": [
    {
     "name": "stdout",
     "output_type": "stream",
     "text": [
      "                  precision    recall  f1-score   support\n",
      "\n",
      "       micromhos       0.91      1.00      0.95       100\n",
      "              µa       1.00      1.00      1.00       100\n",
      "           µg/kg       1.00      0.96      0.98       100\n",
      "            µg/l       0.96      1.00      0.98       100\n",
      "           µg/m³       1.00      1.00      1.00       100\n",
      "            µl/l       1.00      1.00      1.00       100\n",
      "              µm       1.00      0.90      0.95       100\n",
      "            µohm       1.00      1.00      1.00       100\n",
      "µs/cm or µmho/cm       1.00      1.00      1.00       100\n",
      "\n",
      "        accuracy                           0.98       900\n",
      "       macro avg       0.99      0.98      0.98       900\n",
      "    weighted avg       0.99      0.98      0.98       900\n",
      "\n"
     ]
    }
   ],
   "source": [
    "from sklearn import metrics\n",
    "print(metrics.classification_report(train_y, y_pred))"
   ]
  },
  {
   "cell_type": "code",
   "execution_count": 52,
   "id": "3d643d88",
   "metadata": {},
   "outputs": [
    {
     "name": "stdout",
     "output_type": "stream",
     "text": [
      "                  precision    recall  f1-score   support\n",
      "\n",
      "       micromhos       0.91      1.00      0.95       100\n",
      "              µa       1.00      1.00      1.00       100\n",
      "           µg/kg       1.00      0.96      0.98       100\n",
      "            µg/l       0.96      1.00      0.98       100\n",
      "           µg/m³       1.00      1.00      1.00       100\n",
      "            µl/l       1.00      1.00      1.00       100\n",
      "              µm       1.00      0.90      0.95       100\n",
      "            µohm       1.00      1.00      1.00       100\n",
      "µs/cm or µmho/cm       1.00      1.00      1.00       100\n",
      "\n",
      "        accuracy                           0.98       900\n",
      "       macro avg       0.99      0.98      0.98       900\n",
      "    weighted avg       0.99      0.98      0.98       900\n",
      "\n"
     ]
    }
   ],
   "source": [
    "from sklearn import metrics\n",
    "print(metrics.classification_report(train_y, y_pred))"
   ]
  },
  {
   "cell_type": "code",
   "execution_count": 53,
   "id": "b898f939",
   "metadata": {},
   "outputs": [
    {
     "data": {
      "text/plain": [
       "µg/kg               100\n",
       "µg/m³               100\n",
       "µs/cm or µmho/cm    100\n",
       "µm                  100\n",
       "µohm                100\n",
       "µa                  100\n",
       "µg/l                100\n",
       "micromhos           100\n",
       "µl/l                100\n",
       "Name: class, dtype: int64"
      ]
     },
     "execution_count": 53,
     "metadata": {},
     "output_type": "execute_result"
    }
   ],
   "source": [
    "df_upsampled[\"class\"].value_counts()"
   ]
  },
  {
   "cell_type": "code",
   "execution_count": 54,
   "id": "4ff835df",
   "metadata": {},
   "outputs": [],
   "source": [
    "import pickle\n",
    "\n",
    "pickle.dump(vectorizer, open(\"tf_vectorizer_char.pkl\",\"wb\"))\n",
    "pickle.dump(naive_bayes_classifier, open(\"NBC.pkl\",\"wb\"))"
   ]
  },
  {
   "cell_type": "code",
   "execution_count": 82,
   "id": "98119455",
   "metadata": {},
   "outputs": [
    {
     "name": "stdout",
     "output_type": "stream",
     "text": [
      "Cross-validation scores:[nan nan nan nan nan nan nan nan nan nan]\n"
     ]
    },
    {
     "name": "stderr",
     "output_type": "stream",
     "text": [
      "/opt/anaconda3/lib/python3.9/site-packages/sklearn/model_selection/_split.py:676: UserWarning: The least populated class in y has only 2 members, which is less than n_splits=10.\n",
      "  warnings.warn(\n",
      "/opt/anaconda3/lib/python3.9/site-packages/sklearn/model_selection/_validation.py:372: FitFailedWarning: \n",
      "10 fits failed out of a total of 10.\n",
      "The score on these train-test partitions for these parameters will be set to nan.\n",
      "If these failures are not expected, you can try to debug them by setting error_score='raise'.\n",
      "\n",
      "Below are more details about the failures:\n",
      "--------------------------------------------------------------------------------\n",
      "1 fits failed with the following error:\n",
      "Traceback (most recent call last):\n",
      "  File \"/opt/anaconda3/lib/python3.9/site-packages/sklearn/model_selection/_validation.py\", line 680, in _fit_and_score\n",
      "    estimator.fit(X_train, y_train, **fit_params)\n",
      "  File \"/opt/anaconda3/lib/python3.9/site-packages/sklearn/naive_bayes.py\", line 663, in fit\n",
      "    X, y = self._check_X_y(X, y)\n",
      "  File \"/opt/anaconda3/lib/python3.9/site-packages/sklearn/naive_bayes.py\", line 523, in _check_X_y\n",
      "    return self._validate_data(X, y, accept_sparse=\"csr\", reset=reset)\n",
      "  File \"/opt/anaconda3/lib/python3.9/site-packages/sklearn/base.py\", line 581, in _validate_data\n",
      "    X, y = check_X_y(X, y, **check_params)\n",
      "  File \"/opt/anaconda3/lib/python3.9/site-packages/sklearn/utils/validation.py\", line 964, in check_X_y\n",
      "    X = check_array(\n",
      "  File \"/opt/anaconda3/lib/python3.9/site-packages/sklearn/utils/validation.py\", line 746, in check_array\n",
      "    array = np.asarray(array, order=order, dtype=dtype)\n",
      "  File \"/opt/anaconda3/lib/python3.9/site-packages/pandas/core/series.py\", line 872, in __array__\n",
      "    return np.asarray(self._values, dtype)\n",
      "ValueError: could not convert string to float: 'µohm'\n",
      "\n",
      "--------------------------------------------------------------------------------\n",
      "9 fits failed with the following error:\n",
      "Traceback (most recent call last):\n",
      "  File \"/opt/anaconda3/lib/python3.9/site-packages/sklearn/model_selection/_validation.py\", line 680, in _fit_and_score\n",
      "    estimator.fit(X_train, y_train, **fit_params)\n",
      "  File \"/opt/anaconda3/lib/python3.9/site-packages/sklearn/naive_bayes.py\", line 663, in fit\n",
      "    X, y = self._check_X_y(X, y)\n",
      "  File \"/opt/anaconda3/lib/python3.9/site-packages/sklearn/naive_bayes.py\", line 523, in _check_X_y\n",
      "    return self._validate_data(X, y, accept_sparse=\"csr\", reset=reset)\n",
      "  File \"/opt/anaconda3/lib/python3.9/site-packages/sklearn/base.py\", line 581, in _validate_data\n",
      "    X, y = check_X_y(X, y, **check_params)\n",
      "  File \"/opt/anaconda3/lib/python3.9/site-packages/sklearn/utils/validation.py\", line 964, in check_X_y\n",
      "    X = check_array(\n",
      "  File \"/opt/anaconda3/lib/python3.9/site-packages/sklearn/utils/validation.py\", line 746, in check_array\n",
      "    array = np.asarray(array, order=order, dtype=dtype)\n",
      "  File \"/opt/anaconda3/lib/python3.9/site-packages/pandas/core/series.py\", line 872, in __array__\n",
      "    return np.asarray(self._values, dtype)\n",
      "ValueError: could not convert string to float: 'µs/cm'\n",
      "\n",
      "  warnings.warn(some_fits_failed_message, FitFailedWarning)\n"
     ]
    }
   ],
   "source": [
    "from sklearn.model_selection import cross_val_score\n",
    "scores = cross_val_score(naive_bayes_classifier,train_X,train_y, cv = 10, scoring='accuracy')\n",
    "print('Cross-validation scores:{}'.format(scores))"
   ]
  },
  {
   "cell_type": "code",
   "execution_count": null,
   "id": "3563a872",
   "metadata": {},
   "outputs": [],
   "source": []
  },
  {
   "cell_type": "code",
   "execution_count": null,
   "id": "c15880e7",
   "metadata": {},
   "outputs": [],
   "source": [
    "vectorizer = CountVectorizer(ngram_range=(1, 100),token_pattern = r\"(?u)\\b\\w+\\b\", analyzer='char')"
   ]
  },
  {
   "cell_type": "code",
   "execution_count": null,
   "id": "823539e6",
   "metadata": {},
   "outputs": [],
   "source": []
  },
  {
   "cell_type": "code",
   "execution_count": null,
   "id": "b59ae4d6",
   "metadata": {},
   "outputs": [],
   "source": []
  },
  {
   "cell_type": "code",
   "execution_count": null,
   "id": "43a4dbf6",
   "metadata": {},
   "outputs": [],
   "source": []
  }
 ],
 "metadata": {
  "kernelspec": {
   "display_name": "Python 3.10.2 64-bit",
   "language": "python",
   "name": "python3"
  },
  "language_info": {
   "codemirror_mode": {
    "name": "ipython",
    "version": 3
   },
   "file_extension": ".py",
   "mimetype": "text/x-python",
   "name": "python",
   "nbconvert_exporter": "python",
   "pygments_lexer": "ipython3",
   "version": "3.10.2"
  },
  "vscode": {
   "interpreter": {
    "hash": "3f68dd0345951f0cf8ba50f1a3a6916c07782ad147069f612168b176ca281376"
   }
  }
 },
 "nbformat": 4,
 "nbformat_minor": 5
}
